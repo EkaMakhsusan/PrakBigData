{
  "nbformat": 4,
  "nbformat_minor": 0,
  "metadata": {
    "colab": {
      "provenance": []
    },
    "kernelspec": {
      "name": "python3",
      "display_name": "Python 3"
    },
    "language_info": {
      "name": "python"
    }
  },
  "cells": [
    {
      "cell_type": "code",
      "execution_count": 3,
      "metadata": {
        "colab": {
          "base_uri": "https://localhost:8080/"
        },
        "id": "DjW1H68l0s9j",
        "outputId": "5411828e-e0c4-4f11-bc83-a856a52b9c1b"
      },
      "outputs": [
        {
          "output_type": "stream",
          "name": "stdout",
          "text": [
            "Collecting pandas==2.2.2\n",
            "  Downloading pandas-2.2.2-cp310-cp310-manylinux_2_17_x86_64.manylinux2014_x86_64.whl.metadata (19 kB)\n",
            "Requirement already satisfied: numpy in /usr/local/lib/python3.10/dist-packages (1.26.4)\n",
            "Collecting pyspark==3.4.1\n",
            "  Downloading pyspark-3.4.1.tar.gz (310.8 MB)\n",
            "\u001b[2K     \u001b[90m━━━━━━━━━━━━━━━━━━━━━━━━━━━━━━━━━━━━━━━━\u001b[0m \u001b[32m310.8/310.8 MB\u001b[0m \u001b[31m4.5 MB/s\u001b[0m eta \u001b[36m0:00:00\u001b[0m\n",
            "\u001b[?25h  Preparing metadata (setup.py) ... \u001b[?25l\u001b[?25hdone\n",
            "Requirement already satisfied: python-dateutil>=2.8.2 in /usr/local/lib/python3.10/dist-packages (from pandas==2.2.2) (2.8.2)\n",
            "Requirement already satisfied: pytz>=2020.1 in /usr/local/lib/python3.10/dist-packages (from pandas==2.2.2) (2024.2)\n",
            "Requirement already satisfied: tzdata>=2022.7 in /usr/local/lib/python3.10/dist-packages (from pandas==2.2.2) (2024.1)\n",
            "Requirement already satisfied: py4j==0.10.9.7 in /usr/local/lib/python3.10/dist-packages (from pyspark==3.4.1) (0.10.9.7)\n",
            "Requirement already satisfied: six>=1.5 in /usr/local/lib/python3.10/dist-packages (from python-dateutil>=2.8.2->pandas==2.2.2) (1.16.0)\n",
            "Downloading pandas-2.2.2-cp310-cp310-manylinux_2_17_x86_64.manylinux2014_x86_64.whl (13.0 MB)\n",
            "\u001b[2K   \u001b[90m━━━━━━━━━━━━━━━━━━━━━━━━━━━━━━━━━━━━━━━━\u001b[0m \u001b[32m13.0/13.0 MB\u001b[0m \u001b[31m53.8 MB/s\u001b[0m eta \u001b[36m0:00:00\u001b[0m\n",
            "\u001b[?25hBuilding wheels for collected packages: pyspark\n",
            "  Building wheel for pyspark (setup.py) ... \u001b[?25l\u001b[?25hdone\n",
            "  Created wheel for pyspark: filename=pyspark-3.4.1-py2.py3-none-any.whl size=311285391 sha256=c0b56cdea97d861145b0fc29cca85a85b3fdc4bf582b0e7e3c21fbed02636c08\n",
            "  Stored in directory: /root/.cache/pip/wheels/0d/77/a3/ff2f74cc9ab41f8f594dabf0579c2a7c6de920d584206e0834\n",
            "Successfully built pyspark\n",
            "Installing collected packages: pyspark, pandas\n",
            "  Attempting uninstall: pandas\n",
            "    Found existing installation: pandas 2.1.4\n",
            "    Uninstalling pandas-2.1.4:\n",
            "      Successfully uninstalled pandas-2.1.4\n",
            "\u001b[31mERROR: pip's dependency resolver does not currently take into account all the packages that are installed. This behaviour is the source of the following dependency conflicts.\n",
            "cudf-cu12 24.4.1 requires pandas<2.2.2dev0,>=2.0, but you have pandas 2.2.2 which is incompatible.\n",
            "google-colab 1.0.0 requires pandas==2.1.4, but you have pandas 2.2.2 which is incompatible.\u001b[0m\u001b[31m\n",
            "\u001b[0mSuccessfully installed pandas-2.2.2 pyspark-3.4.1\n"
          ]
        }
      ],
      "source": [
        "!pip install pandas==2.2.2 numpy pyspark==3.4.1"
      ]
    },
    {
      "cell_type": "code",
      "source": [
        "# 1\n",
        "from pyspark.sql import SparkSession\n",
        "spark = SparkSession.builder.appName('HandsOnPertemuan6').getOrCreate()\n",
        "\n",
        "data = [('Eka1', 'Pengusaha', 3000000),\n",
        "        ('Ekaa2', 'IT Consultant', 1000000),\n",
        "        ('Ekaaa3', 'Programmer', 2000000),\n",
        "        ('Ekaaaa4', 'Data Analyst', 1500000)]\n",
        "columns = ['EmployeeName', 'Department', 'Salary']\n",
        "\n",
        "df = spark.createDataFrame(data, schema=columns)\n",
        "df.show()"
      ],
      "metadata": {
        "colab": {
          "base_uri": "https://localhost:8080/"
        },
        "id": "PyVAegL00vop",
        "outputId": "0f6c68f0-daea-4c65-baa3-abf56e3238a0"
      },
      "execution_count": 4,
      "outputs": [
        {
          "output_type": "stream",
          "name": "stdout",
          "text": [
            "+------------+-------------+-------+\n",
            "|EmployeeName|   Department| Salary|\n",
            "+------------+-------------+-------+\n",
            "|        Eka1|    Pengusaha|3000000|\n",
            "|       Ekaa2|IT Consultant|1000000|\n",
            "|      Ekaaa3|   Programmer|2000000|\n",
            "|     Ekaaaa4| Data Analyst|1500000|\n",
            "+------------+-------------+-------+\n",
            "\n"
          ]
        }
      ]
    },
    {
      "cell_type": "code",
      "source": [
        "# 2 Contoh operasi transformasi DataFrame\n",
        "df.select('EmployeeName', 'Salary').show()\n",
        "df.filter(df['Salary'] > 3000).show()\n",
        "df.groupBy('Department').avg('Salary').show()"
      ],
      "metadata": {
        "colab": {
          "base_uri": "https://localhost:8080/"
        },
        "id": "9EV5NtHo1kkW",
        "outputId": "7db4e79b-54ab-4644-9a8a-8c4e97c2ad46"
      },
      "execution_count": 5,
      "outputs": [
        {
          "output_type": "stream",
          "name": "stdout",
          "text": [
            "+------------+-------+\n",
            "|EmployeeName| Salary|\n",
            "+------------+-------+\n",
            "|        Eka1|3000000|\n",
            "|       Ekaa2|1000000|\n",
            "|      Ekaaa3|2000000|\n",
            "|     Ekaaaa4|1500000|\n",
            "+------------+-------+\n",
            "\n",
            "+------------+-------------+-------+\n",
            "|EmployeeName|   Department| Salary|\n",
            "+------------+-------------+-------+\n",
            "|        Eka1|    Pengusaha|3000000|\n",
            "|       Ekaa2|IT Consultant|1000000|\n",
            "|      Ekaaa3|   Programmer|2000000|\n",
            "|     Ekaaaa4| Data Analyst|1500000|\n",
            "+------------+-------------+-------+\n",
            "\n",
            "+-------------+-----------+\n",
            "|   Department|avg(Salary)|\n",
            "+-------------+-----------+\n",
            "|IT Consultant|  1000000.0|\n",
            "|    Pengusaha|  3000000.0|\n",
            "|   Programmer|  2000000.0|\n",
            "| Data Analyst|  1500000.0|\n",
            "+-------------+-----------+\n",
            "\n"
          ]
        }
      ]
    },
    {
      "cell_type": "code",
      "source": [
        "# 3 Menambahkan kolom bonus\n",
        "df_with_bonus = df.withColumn('SalaryBonus', df['Salary'] * 0.1)\n",
        "\n",
        "# Menambahkan kolom TotalCompensation menggunakan df_with_bonus\n",
        "df_with_total = df_with_bonus.withColumn('TotalCompensation', df_with_bonus['Salary'] + df_with_bonus['SalaryBonus'])\n",
        "\n",
        "# Menampilkan DataFrame dengan kolom baru\n",
        "df_with_total.show()"
      ],
      "metadata": {
        "colab": {
          "base_uri": "https://localhost:8080/"
        },
        "id": "rchfli1o1q5K",
        "outputId": "d6b8fa64-f350-48f7-d8bf-c5b2d10ae5db"
      },
      "execution_count": 6,
      "outputs": [
        {
          "output_type": "stream",
          "name": "stdout",
          "text": [
            "+------------+-------------+-------+-----------+-----------------+\n",
            "|EmployeeName|   Department| Salary|SalaryBonus|TotalCompensation|\n",
            "+------------+-------------+-------+-----------+-----------------+\n",
            "|        Eka1|    Pengusaha|3000000|   300000.0|        3300000.0|\n",
            "|       Ekaa2|IT Consultant|1000000|   100000.0|        1100000.0|\n",
            "|      Ekaaa3|   Programmer|2000000|   200000.0|        2200000.0|\n",
            "|     Ekaaaa4| Data Analyst|1500000|   150000.0|        1650000.0|\n",
            "+------------+-------------+-------+-----------+-----------------+\n",
            "\n"
          ]
        }
      ]
    },
    {
      "cell_type": "code",
      "source": [
        "# 4 Contoh menggunakan window functions\n",
        "from pyspark.sql.window import Window\n",
        "from pyspark.sql import functions as F\n",
        "\n",
        "windowSpec = Window.partitionBy('Department').orderBy('Salary')\n",
        "df.withColumn('Rank', F.rank().over(windowSpec)).show()"
      ],
      "metadata": {
        "colab": {
          "base_uri": "https://localhost:8080/"
        },
        "id": "YKERtpsh1vC_",
        "outputId": "d9ad504e-c1cf-4af6-ae74-b7af0243dc0c"
      },
      "execution_count": 7,
      "outputs": [
        {
          "output_type": "stream",
          "name": "stdout",
          "text": [
            "+------------+-------------+-------+----+\n",
            "|EmployeeName|   Department| Salary|Rank|\n",
            "+------------+-------------+-------+----+\n",
            "|     Ekaaaa4| Data Analyst|1500000|   1|\n",
            "|       Ekaa2|IT Consultant|1000000|   1|\n",
            "|        Eka1|    Pengusaha|3000000|   1|\n",
            "|      Ekaaa3|   Programmer|2000000|   1|\n",
            "+------------+-------------+-------+----+\n",
            "\n"
          ]
        }
      ]
    },
    {
      "cell_type": "code",
      "source": [],
      "metadata": {
        "id": "9eB5zEJe1yuG"
      },
      "execution_count": null,
      "outputs": []
    }
  ]
}